{
 "cells": [
  {
   "cell_type": "markdown",
   "id": "70e3335e",
   "metadata": {
    "papermill": {
     "duration": 0.028045,
     "end_time": "2021-07-25T14:58:40.080720",
     "exception": false,
     "start_time": "2021-07-25T14:58:40.052675",
     "status": "completed"
    },
    "tags": []
   },
   "source": [
    "# Movie Recommendations with Spark"
   ]
  },
  {
   "cell_type": "markdown",
   "id": "7cf72efb",
   "metadata": {
    "papermill": {
     "duration": 0.02514,
     "end_time": "2021-07-25T14:58:40.133763",
     "exception": false,
     "start_time": "2021-07-25T14:58:40.108623",
     "status": "completed"
    },
    "tags": []
   },
   "source": [
    "[Recommender System](https://en.wikipedia.org/wiki/Recommender_system) is a system that predict ratings or preferences user may give to this item. It is a method to recommend things to people based on their past behaviour.We often sort or present as \"top-N\" recommendations which means recommendating people a set of N items from a large collection of items. \n",
    "\n",
    "In this project, we use [Apache Spark](https://spark.apache.org/) SparkMLib(ALS) and deep learning to build recommender systems which can provide recommendations to a user."
   ]
  },
  {
   "cell_type": "markdown",
   "id": "bae2f890",
   "metadata": {
    "papermill": {
     "duration": 0.025274,
     "end_time": "2021-07-25T14:58:40.184948",
     "exception": false,
     "start_time": "2021-07-25T14:58:40.159674",
     "status": "completed"
    },
    "tags": []
   },
   "source": [
    "## Table of Contents\n",
    "\n",
    "1. [Loading Data](#loading_data)\n",
    "2. [Exploratory Data Analysis](#eda)\n",
    "3. [Building Models](#building_model)\n",
    "    - 3.1 [Pre-processing](#m_pre_processing)\n",
    "    - 3.2 [Alternating Least Squares (ALS)](#als)\n",
    "    - 3.3 [Depp Learning with Keras](#deep_learning)\n",
    "4. [Summary](#summary)"
   ]
  },
  {
   "cell_type": "code",
   "execution_count": 1,
   "id": "5e211e4d",
   "metadata": {
    "_cell_guid": "b1076dfc-b9ad-4769-8c92-a6c4dae69d19",
    "_uuid": "8f2839f25d086af736a60e9eeb907d3b93b6e0e5",
    "execution": {
     "iopub.execute_input": "2021-07-25T14:58:40.240037Z",
     "iopub.status.busy": "2021-07-25T14:58:40.238903Z",
     "iopub.status.idle": "2021-07-25T14:59:21.638472Z",
     "shell.execute_reply": "2021-07-25T14:59:21.637346Z",
     "shell.execute_reply.started": "2021-07-25T14:54:55.034370Z"
    },
    "papermill": {
     "duration": 41.428289,
     "end_time": "2021-07-25T14:59:21.638709",
     "exception": false,
     "start_time": "2021-07-25T14:58:40.210420",
     "status": "completed"
    },
    "tags": []
   },
   "outputs": [
    {
     "name": "stdout",
     "output_type": "stream",
     "text": [
      "Collecting pyspark\r\n",
      "  Downloading pyspark-3.1.2.tar.gz (212.4 MB)\r\n",
      "\u001b[K     |████████████████████████████████| 212.4 MB 51 kB/s \r\n",
      "\u001b[?25hCollecting py4j==0.10.9\r\n",
      "  Downloading py4j-0.10.9-py2.py3-none-any.whl (198 kB)\r\n",
      "\u001b[K     |████████████████████████████████| 198 kB 55.3 MB/s \r\n",
      "\u001b[?25hBuilding wheels for collected packages: pyspark\r\n",
      "  Building wheel for pyspark (setup.py) ... \u001b[?25l-\b \b\\\b \b|\b \b/\b \b-\b \b\\\b \b|\b \b/\b \b-\b \b\\\b \b|\b \b/\b \b-\b \b\\\b \b|\b \b/\b \b-\b \b\\\b \b|\b \b/\b \b-\b \b\\\b \b|\b \b/\b \b-\b \b\\\b \b|\b \b/\b \b-\b \b\\\b \b|\b \b/\b \b-\b \b\\\b \b|\b \b/\b \b-\b \b\\\b \b|\b \b/\b \b-\b \b\\\b \b|\b \b/\b \b-\b \b\\\b \b|\b \b/\b \b-\b \b\\\b \b|\b \b/\b \b-\b \b\\\b \b|\b \b/\b \b-\b \b\\\b \bdone\r\n",
      "\u001b[?25h  Created wheel for pyspark: filename=pyspark-3.1.2-py2.py3-none-any.whl size=212880768 sha256=98f758866d446f506b60859cffe0a13740a1dc713bb9e86fd2251dca72c46605\r\n",
      "  Stored in directory: /root/.cache/pip/wheels/a5/0a/c1/9561f6fecb759579a7d863dcd846daaa95f598744e71b02c77\r\n",
      "Successfully built pyspark\r\n",
      "Installing collected packages: py4j, pyspark\r\n",
      "Successfully installed py4j-0.10.9 pyspark-3.1.2\r\n",
      "\u001b[33mWARNING: Running pip as root will break packages and permissions. You should install packages reliably by using venv: https://pip.pypa.io/warnings/venv\u001b[0m\r\n",
      "Note: you may need to restart the kernel to use updated packages.\n"
     ]
    }
   ],
   "source": [
    "pip install pyspark # dowload spark"
   ]
  },
  {
   "cell_type": "code",
   "execution_count": 2,
   "id": "a838718b",
   "metadata": {
    "execution": {
     "iopub.execute_input": "2021-07-25T14:59:21.935530Z",
     "iopub.status.busy": "2021-07-25T14:59:21.934787Z",
     "iopub.status.idle": "2021-07-25T14:59:28.694912Z",
     "shell.execute_reply": "2021-07-25T14:59:28.694214Z",
     "shell.execute_reply.started": "2021-07-25T14:55:01.729533Z"
    },
    "papermill": {
     "duration": 6.913864,
     "end_time": "2021-07-25T14:59:28.695098",
     "exception": false,
     "start_time": "2021-07-25T14:59:21.781234",
     "status": "completed"
    },
    "tags": []
   },
   "outputs": [
    {
     "name": "stdout",
     "output_type": "stream",
     "text": [
      "/kaggle/input/movielens/movies.csv\n",
      "/kaggle/input/movielens/ratings.csv\n",
      "/kaggle/input/movielens/README.txt\n",
      "/kaggle/input/movielens/tags.csv\n",
      "/kaggle/input/movielens/links.csv\n"
     ]
    }
   ],
   "source": [
    "import numpy as np\n",
    "from pyspark.sql import SparkSession\n",
    "from pyspark.sql import functions as func\n",
    "from pyspark.ml.recommendation import ALS\n",
    "from pyspark.ml.evaluation import RegressionEvaluator\n",
    "from pyspark.ml.feature import StringIndexer\n",
    "from pyspark.sql.types import StructType, IntegerType, StructField\n",
    "import tensorflow as tf\n",
    "from tensorflow import keras\n",
    "from tensorflow.keras import layers\n",
    "from keras.optimizers import Adam\n",
    "from keras.regularizers import l2\n",
    "import matplotlib.pyplot as plt\n",
    "%matplotlib inline\n",
    "from IPython.display import SVG\n",
    "from keras.utils.vis_utils import model_to_dot\n",
    "\n",
    "import os\n",
    "for dirname, _, filenames in os.walk('/kaggle/input'):\n",
    "    for filename in filenames:\n",
    "        print(os.path.join(dirname, filename))"
   ]
  },
  {
   "cell_type": "markdown",
   "id": "b884dfbb",
   "metadata": {
    "papermill": {
     "duration": 0.141833,
     "end_time": "2021-07-25T14:59:28.978722",
     "exception": false,
     "start_time": "2021-07-25T14:59:28.836889",
     "status": "completed"
    },
    "tags": []
   },
   "source": [
    "## 1. <a id='loading_data'></a>Loading Data¶"
   ]
  },
  {
   "cell_type": "code",
   "execution_count": 3,
   "id": "821e2385",
   "metadata": {
    "execution": {
     "iopub.execute_input": "2021-07-25T14:59:29.265707Z",
     "iopub.status.busy": "2021-07-25T14:59:29.265014Z",
     "iopub.status.idle": "2021-07-25T14:59:42.037694Z",
     "shell.execute_reply": "2021-07-25T14:59:42.036898Z",
     "shell.execute_reply.started": "2021-07-25T14:55:04.017121Z"
    },
    "papermill": {
     "duration": 12.916724,
     "end_time": "2021-07-25T14:59:42.037903",
     "exception": false,
     "start_time": "2021-07-25T14:59:29.121179",
     "status": "completed"
    },
    "tags": []
   },
   "outputs": [],
   "source": [
    "def load_moviename():\n",
    "    movieNames = {}\n",
    "    with open('../input/movielens/movies.csv', encoding='ISO-8859-1') as movies_file:\n",
    "        next(movies_file)\n",
    "        for row in movies_file:\n",
    "            field = row.split(',')\n",
    "            movieNames[int(field[0])] = field[1]\n",
    "    return movieNames\n",
    "\n",
    "spark = SparkSession.builder.appName('Movie_Recommendation').getOrCreate()\n",
    "movies_dict = spark.sparkContext.broadcast(load_moviename())\n",
    "data_rating = spark.read.option('header', 'true').option('inferschema', 'true').csv('../input/movielens/ratings.csv')\n",
    "data_movies = spark.read.option('header', 'true').option('inferschema', 'true').csv('../input/movielens/movies.csv')"
   ]
  },
  {
   "cell_type": "markdown",
   "id": "706b03f9",
   "metadata": {
    "papermill": {
     "duration": 0.143653,
     "end_time": "2021-07-25T14:59:42.329746",
     "exception": false,
     "start_time": "2021-07-25T14:59:42.186093",
     "status": "completed"
    },
    "tags": []
   },
   "source": [
    "## 2. <a id='eda'></a>Exploratory Data Analysis"
   ]
  },
  {
   "cell_type": "code",
   "execution_count": 4,
   "id": "9647a361",
   "metadata": {
    "execution": {
     "iopub.execute_input": "2021-07-25T14:59:42.620933Z",
     "iopub.status.busy": "2021-07-25T14:59:42.620226Z",
     "iopub.status.idle": "2021-07-25T14:59:42.662489Z",
     "shell.execute_reply": "2021-07-25T14:59:42.663273Z",
     "shell.execute_reply.started": "2021-07-25T14:55:16.281681Z"
    },
    "papermill": {
     "duration": 0.190275,
     "end_time": "2021-07-25T14:59:42.663583",
     "exception": false,
     "start_time": "2021-07-25T14:59:42.473308",
     "status": "completed"
    },
    "tags": []
   },
   "outputs": [
    {
     "data": {
      "text/plain": [
       "['userId', 'movieId', 'rating', 'timestamp']"
      ]
     },
     "execution_count": 4,
     "metadata": {},
     "output_type": "execute_result"
    }
   ],
   "source": [
    "data_rating.columns"
   ]
  },
  {
   "cell_type": "code",
   "execution_count": 5,
   "id": "43f8024c",
   "metadata": {
    "execution": {
     "iopub.execute_input": "2021-07-25T14:59:42.962084Z",
     "iopub.status.busy": "2021-07-25T14:59:42.961337Z",
     "iopub.status.idle": "2021-07-25T14:59:42.968467Z",
     "shell.execute_reply": "2021-07-25T14:59:42.969068Z",
     "shell.execute_reply.started": "2021-07-25T14:55:16.343470Z"
    },
    "papermill": {
     "duration": 0.156049,
     "end_time": "2021-07-25T14:59:42.969262",
     "exception": false,
     "start_time": "2021-07-25T14:59:42.813213",
     "status": "completed"
    },
    "tags": []
   },
   "outputs": [
    {
     "data": {
      "text/plain": [
       "['movieId', 'title', 'genres']"
      ]
     },
     "execution_count": 5,
     "metadata": {},
     "output_type": "execute_result"
    }
   ],
   "source": [
    "data_movies.columns"
   ]
  },
  {
   "cell_type": "markdown",
   "id": "82af6f2d",
   "metadata": {
    "papermill": {
     "duration": 0.14554,
     "end_time": "2021-07-25T14:59:43.260305",
     "exception": false,
     "start_time": "2021-07-25T14:59:43.114765",
     "status": "completed"
    },
    "tags": []
   },
   "source": [
    "There are 4 columns in `rating.csv`, including `userId`,`movieId`, `rating`and `timestamp`, and 3 columns in `movies.csv`, including `movieId`, `title`, `genres`."
   ]
  },
  {
   "cell_type": "code",
   "execution_count": 6,
   "id": "c8f33da8",
   "metadata": {
    "execution": {
     "iopub.execute_input": "2021-07-25T14:59:43.553915Z",
     "iopub.status.busy": "2021-07-25T14:59:43.552926Z",
     "iopub.status.idle": "2021-07-25T14:59:46.766784Z",
     "shell.execute_reply": "2021-07-25T14:59:46.765822Z",
     "shell.execute_reply.started": "2021-07-25T14:55:16.356534Z"
    },
    "papermill": {
     "duration": 3.36218,
     "end_time": "2021-07-25T14:59:46.766988",
     "exception": false,
     "start_time": "2021-07-25T14:59:43.404808",
     "status": "completed"
    },
    "tags": []
   },
   "outputs": [
    {
     "name": "stdout",
     "output_type": "stream",
     "text": [
      "+------------------+\n",
      "|            genres|\n",
      "+------------------+\n",
      "|             Crime|\n",
      "|           Romance|\n",
      "|          Thriller|\n",
      "|         Adventure|\n",
      "|             Drama|\n",
      "|               War|\n",
      "|       Documentary|\n",
      "|           Fantasy|\n",
      "|           Mystery|\n",
      "|           Musical|\n",
      "|         Animation|\n",
      "|         Film-Noir|\n",
      "|(no genres listed)|\n",
      "|              IMAX|\n",
      "|            Horror|\n",
      "|           Western|\n",
      "|            Comedy|\n",
      "|          Children|\n",
      "|            Action|\n",
      "|            Sci-Fi|\n",
      "+------------------+\n",
      "\n"
     ]
    }
   ],
   "source": [
    "data_movie_split_genres = data_movies.withColumn('genres', func.explode(func.split('genres','[|]')))\n",
    "data_movie_split_genres.select('genres').distinct().show()"
   ]
  },
  {
   "cell_type": "markdown",
   "id": "d2c6fadf",
   "metadata": {
    "papermill": {
     "duration": 0.23782,
     "end_time": "2021-07-25T14:59:47.237993",
     "exception": false,
     "start_time": "2021-07-25T14:59:47.000173",
     "status": "completed"
    },
    "tags": []
   },
   "source": [
    "There are 20 genres in `movie.csv`."
   ]
  },
  {
   "cell_type": "code",
   "execution_count": 7,
   "id": "cf93585c",
   "metadata": {
    "execution": {
     "iopub.execute_input": "2021-07-25T14:59:47.619447Z",
     "iopub.status.busy": "2021-07-25T14:59:47.618761Z",
     "iopub.status.idle": "2021-07-25T14:59:48.558070Z",
     "shell.execute_reply": "2021-07-25T14:59:48.557157Z",
     "shell.execute_reply.started": "2021-07-25T14:55:19.799463Z"
    },
    "papermill": {
     "duration": 1.087425,
     "end_time": "2021-07-25T14:59:48.558322",
     "exception": false,
     "start_time": "2021-07-25T14:59:47.470897",
     "status": "completed"
    },
    "tags": []
   },
   "outputs": [
    {
     "name": "stdout",
     "output_type": "stream",
     "text": [
      "+-------+------------------+\n",
      "|summary|            rating|\n",
      "+-------+------------------+\n",
      "|  count|            100004|\n",
      "|   mean| 3.543608255669773|\n",
      "| stddev|1.0580641091070326|\n",
      "|    min|               0.5|\n",
      "|    max|               5.0|\n",
      "+-------+------------------+\n",
      "\n"
     ]
    }
   ],
   "source": [
    "data_rating.describe('rating').show()"
   ]
  },
  {
   "cell_type": "markdown",
   "id": "628655af",
   "metadata": {
    "papermill": {
     "duration": 0.141181,
     "end_time": "2021-07-25T14:59:48.916245",
     "exception": false,
     "start_time": "2021-07-25T14:59:48.775064",
     "status": "completed"
    },
    "tags": []
   },
   "source": [
    "The minimum rating is 0.5 and maximum is 5."
   ]
  },
  {
   "cell_type": "code",
   "execution_count": 8,
   "id": "d7abafb0",
   "metadata": {
    "execution": {
     "iopub.execute_input": "2021-07-25T14:59:49.210255Z",
     "iopub.status.busy": "2021-07-25T14:59:49.209565Z",
     "iopub.status.idle": "2021-07-25T14:59:51.090024Z",
     "shell.execute_reply": "2021-07-25T14:59:51.090519Z",
     "shell.execute_reply.started": "2021-07-25T14:55:20.806168Z"
    },
    "papermill": {
     "duration": 2.035046,
     "end_time": "2021-07-25T14:59:51.090735",
     "exception": false,
     "start_time": "2021-07-25T14:59:49.055689",
     "status": "completed"
    },
    "tags": []
   },
   "outputs": [
    {
     "data": {
      "image/png": "[encoded data removed]",
      "text/plain": [
       "<Figure size 864x432 with 1 Axes>"
      ]
     },
     "metadata": {
      "needs_background": "light"
     },
     "output_type": "display_data"
    }
   ],
   "source": [
    "# plot the distribution of rating\n",
    "data_rating_pandas = data_rating.select('rating').toPandas()\n",
    "fig, ax = plt.subplots(figsize = (12, 6))\n",
    "ax.hist(data_rating_pandas, color = \"skyblue\" , edgecolor='black', linewidth=1)\n",
    "\n",
    "for rect in ax.patches:\n",
    "    height = rect.get_height()\n",
    "    ax.annotate(f'{int(height)}', xy=(rect.get_x()+rect.get_width()/2, height), \n",
    "                xytext=(0, 5), textcoords='offset points', ha='center', va='bottom') \n",
    "\n",
    "plt.title(\"The distribution of Rating\", fontsize = 20)\n",
    "plt.xlabel(\"Rating\", fontsize = 16)\n",
    "plt.ylabel(\"Count\", fontsize = 16)\n",
    "plt.grid()"
   ]
  },
  {
   "cell_type": "code",
   "execution_count": 9,
   "id": "60f15f3a",
   "metadata": {
    "execution": {
     "iopub.execute_input": "2021-07-25T14:59:51.376292Z",
     "iopub.status.busy": "2021-07-25T14:59:51.375589Z",
     "iopub.status.idle": "2021-07-25T14:59:52.670989Z",
     "shell.execute_reply": "2021-07-25T14:59:52.671890Z",
     "shell.execute_reply.started": "2021-07-25T14:55:22.445944Z"
    },
    "papermill": {
     "duration": 1.441658,
     "end_time": "2021-07-25T14:59:52.672188",
     "exception": false,
     "start_time": "2021-07-25T14:59:51.230530",
     "status": "completed"
    },
    "tags": []
   },
   "outputs": [
    {
     "name": "stdout",
     "output_type": "stream",
     "text": [
      "Top 20 movies:\n",
      "+-------+--------------------------------------------------+--------------------------------+\n",
      "|movieId|title                                             |genres                          |\n",
      "+-------+--------------------------------------------------+--------------------------------+\n",
      "|1580   |Men in Black (a.k.a. MIB) (1997)                  |Action|Comedy|Sci-Fi            |\n",
      "|2659   |It Came from Hollywood (1982)                     |Comedy|Documentary              |\n",
      "|3794   |Chuck & Buck (2000)                               |Comedy|Drama                    |\n",
      "|3175   |Galaxy Quest (1999)                               |Adventure|Comedy|Sci-Fi         |\n",
      "|471    |Hudsucker Proxy, The (1994)                       |Comedy                          |\n",
      "|1088   |Dirty Dancing (1987)                              |Drama|Musical|Romance           |\n",
      "|1342   |Candyman (1992)                                   |Horror|Thriller                 |\n",
      "|1645   |The Devil's Advocate (1997)                       |Drama|Mystery|Thriller          |\n",
      "|2366   |King Kong (1933)                                  |Action|Adventure|Fantasy|Horror |\n",
      "|6620   |American Splendor (2003)                          |Comedy|Drama                    |\n",
      "|8638   |Before Sunset (2004)                              |Drama|Romance                   |\n",
      "|96488  |Searching for Sugar Man (2012)                    |Documentary                     |\n",
      "|160563 |The Legend of Tarzan (2016)                       |Action|Adventure                |\n",
      "|7982   |Tale of Two Sisters, A (Janghwa, Hongryeon) (2003)|Drama|Horror|Mystery|Thriller   |\n",
      "|1238   |Local Hero (1983)                                 |Comedy                          |\n",
      "|1959   |Out of Africa (1985)                              |Drama|Romance                   |\n",
      "|463    |Guilty as Sin (1993)                              |Crime|Drama|Thriller            |\n",
      "|2122   |Children of the Corn (1984)                       |Horror|Thriller                 |\n",
      "|1591   |Spawn (1997)                                      |Action|Adventure|Sci-Fi|Thriller|\n",
      "|5518   |Beau Pere (a.k.a. Stepfather) (Beau-père) (1981)  |Drama                           |\n",
      "+-------+--------------------------------------------------+--------------------------------+\n",
      "only showing top 20 rows\n",
      "\n"
     ]
    }
   ],
   "source": [
    "# Extract top 20 popular films (based on the sum of rating)\n",
    "top_movie = data_rating.groupBy('movieId').agg(func.sum('rating').alias('sum_rating'))\\\n",
    "                                          .sort('sum_rating', ascending=False)\\\n",
    "                                          .join(data_movies, 'movieId')\\\n",
    "                                          .select('movieId', 'title', 'genres')\n",
    "print('Top 20 movies:')\n",
    "top_movie.show(20, False)"
   ]
  },
  {
   "cell_type": "markdown",
   "id": "c6f055bf",
   "metadata": {
    "papermill": {
     "duration": 0.147315,
     "end_time": "2021-07-25T14:59:52.982850",
     "exception": false,
     "start_time": "2021-07-25T14:59:52.835535",
     "status": "completed"
    },
    "tags": []
   },
   "source": [
    "## 3. <a id='building_model'></a>Building Models"
   ]
  },
  {
   "cell_type": "markdown",
   "id": "b28f6a88",
   "metadata": {
    "papermill": {
     "duration": 0.143316,
     "end_time": "2021-07-25T14:59:53.272030",
     "exception": false,
     "start_time": "2021-07-25T14:59:53.128714",
     "status": "completed"
    },
    "tags": []
   },
   "source": [
    "### 3.1 <a id='m_pre_processing'></a>Pre-processing"
   ]
  },
  {
   "cell_type": "code",
   "execution_count": 10,
   "id": "e5d137c5",
   "metadata": {
    "execution": {
     "iopub.execute_input": "2021-07-25T14:59:53.567987Z",
     "iopub.status.busy": "2021-07-25T14:59:53.567116Z",
     "iopub.status.idle": "2021-07-25T14:59:58.166950Z",
     "shell.execute_reply": "2021-07-25T14:59:58.166035Z",
     "shell.execute_reply.started": "2021-07-25T14:55:23.767192Z"
    },
    "papermill": {
     "duration": 4.749373,
     "end_time": "2021-07-25T14:59:58.167189",
     "exception": false,
     "start_time": "2021-07-25T14:59:53.417816",
     "status": "completed"
    },
    "tags": []
   },
   "outputs": [
    {
     "name": "stdout",
     "output_type": "stream",
     "text": [
      "Encoding userId and movieId....\n",
      "The total number of user is 671\n",
      "The total number of movie is 9066\n",
      "Normalize the rating....\n",
      "The dataframe as following...\n",
      "+------+-------+------+----------+---------+----------+-------------+\n",
      "|userId|movieId|rating|timestamp |user_enco|movie_enco|scaled_rating|\n",
      "+------+-------+------+----------+---------+----------+-------------+\n",
      "|1     |31     |2.5   |1260759144|643.0    |578.0     |0.44444445   |\n",
      "|1     |1029   |3.0   |1260759179|643.0    |566.0     |0.5555556    |\n",
      "|1     |1061   |3.0   |1260759182|643.0    |742.0     |0.5555556    |\n",
      "|1     |1129   |2.0   |1260759185|643.0    |472.0     |0.33333334   |\n",
      "|1     |1172   |4.0   |1260759205|643.0    |499.0     |0.7777778    |\n",
      "+------+-------+------+----------+---------+----------+-------------+\n",
      "only showing top 5 rows\n",
      "\n"
     ]
    }
   ],
   "source": [
    "# create label indexer for userId and movieId that maps a column of labels to a column of label indices.\n",
    "print('Encoding userId and movieId....')\n",
    "indexer_user = StringIndexer(inputCol='userId', outputCol='user_enco') \n",
    "indexed_user = indexer_user.fit(data_rating).transform(data_rating) \n",
    "indexer_movie = StringIndexer(inputCol='movieId', outputCol='movie_enco') \n",
    "data_indexed = indexer_movie.fit(indexed_user).transform(indexed_user)\n",
    "\n",
    "# get the total number of user and movie in the datasets\n",
    "num_users = int(data_indexed.select('user_enco').agg(func.max('user_enco')).collect()[0][0]) + 1\n",
    "num_movies = int(data_indexed.select('movie_enco').agg(func.max('movie_enco')).collect()[0][0]) + 1\n",
    "\n",
    "print('The total number of user is {}'.format(num_users))\n",
    "print('The total number of movie is {}'.format(num_movies))\n",
    "\n",
    "# normalize the rating\n",
    "print('Normalize the rating....')\n",
    "max_rating = 5\n",
    "min_rating = 0.5\n",
    "\n",
    "def scaled_rating(rating):\n",
    "    return (rating - min_rating) / (max_rating - min_rating)\n",
    "\n",
    "scaled_rating_udf = func.udf(scaled_rating)\n",
    "df = data_indexed.withColumn('scaled_rating', scaled_rating_udf(func.col('rating')).cast('float'))\n",
    "\n",
    "# create user encoding and movie encoding dataframe\n",
    "user_encoder = df.select('userId', 'user_enco').distinct()\n",
    "movie_encoder = df.select('movieId', 'movie_enco').distinct()\n",
    "\n",
    "print('The dataframe as following...')\n",
    "df.show(5, truncate=False)"
   ]
  },
  {
   "cell_type": "code",
   "execution_count": 11,
   "id": "d71c879f",
   "metadata": {
    "execution": {
     "iopub.execute_input": "2021-07-25T14:59:58.484346Z",
     "iopub.status.busy": "2021-07-25T14:59:58.483426Z",
     "iopub.status.idle": "2021-07-25T14:59:58.516454Z",
     "shell.execute_reply": "2021-07-25T14:59:58.515784Z",
     "shell.execute_reply.started": "2021-07-25T14:55:27.985683Z"
    },
    "papermill": {
     "duration": 0.194832,
     "end_time": "2021-07-25T14:59:58.516621",
     "exception": false,
     "start_time": "2021-07-25T14:59:58.321789",
     "status": "completed"
    },
    "tags": []
   },
   "outputs": [],
   "source": [
    "# split the dataset into train and test set\n",
    "train, test = df.randomSplit([0.8, 0.2], seed=1234)"
   ]
  },
  {
   "cell_type": "markdown",
   "id": "5fea0f90",
   "metadata": {
    "papermill": {
     "duration": 0.143646,
     "end_time": "2021-07-25T14:59:58.804960",
     "exception": false,
     "start_time": "2021-07-25T14:59:58.661314",
     "status": "completed"
    },
    "tags": []
   },
   "source": [
    "### 3.2 <a id='als'></a>Alternating Least Squares (ALS)"
   ]
  },
  {
   "cell_type": "code",
   "execution_count": 12,
   "id": "d766d718",
   "metadata": {
    "execution": {
     "iopub.execute_input": "2021-07-25T14:59:59.109660Z",
     "iopub.status.busy": "2021-07-25T14:59:59.108747Z",
     "iopub.status.idle": "2021-07-25T14:59:59.111975Z",
     "shell.execute_reply": "2021-07-25T14:59:59.111304Z",
     "shell.execute_reply.started": "2021-07-25T14:55:28.027357Z"
    },
    "papermill": {
     "duration": 0.161369,
     "end_time": "2021-07-25T14:59:59.112137",
     "exception": false,
     "start_time": "2021-07-25T14:59:58.950768",
     "status": "completed"
    },
    "tags": []
   },
   "outputs": [],
   "source": [
    "# Extract top N list from ALS model\n",
    "def recommendations_ALSmodel(user_id, num_rec, model):\n",
    "    userSchema = StructType([StructField('userId', IntegerType(), True)])\n",
    "    user = spark.createDataFrame([[user_id, ]], userSchema)\n",
    "    recommendations = model.recommendForUserSubset(user, num_rec).collect()[0][1]\n",
    "    result = spark.createDataFrame(recommendations)\\\n",
    "                  .join(data_movies, 'movieId')\\\n",
    "                  .select('title', 'genres')\\\n",
    "                  .take(num_rec)\n",
    "    \n",
    "    print('Showing the top {} recommendation for user: {}'.format(num_rec, user_id))\n",
    "    print('===='*9)\n",
    "    print('Movies wiht high ratings from user')\n",
    "    print('----'*8)\n",
    "    top_movie_user = df.filter(func.col('userId')==user_id)\\\n",
    "                       .join(data_movies, 'movieId')\\\n",
    "                       .sort('rating', ascending=False)\\\n",
    "                       .select('title', 'genres')\\\n",
    "                       .take(5)\n",
    "    \n",
    "    for row_top_movie_user in top_movie_user:\n",
    "        print(row_top_movie_user[0], \":\", row_top_movie_user[1])\n",
    "        \n",
    "    print('----'*8)\n",
    "    print('The top {} movie recommendations'.format(num_rec))\n",
    "    print('----'*8)\n",
    "    for rec in result:\n",
    "        print(rec[0], \":\", rec[1])"
   ]
  },
  {
   "cell_type": "code",
   "execution_count": 13,
   "id": "4efa4d74",
   "metadata": {
    "execution": {
     "iopub.execute_input": "2021-07-25T14:59:59.408364Z",
     "iopub.status.busy": "2021-07-25T14:59:59.407687Z",
     "iopub.status.idle": "2021-07-25T15:00:54.013548Z",
     "shell.execute_reply": "2021-07-25T15:00:54.012140Z",
     "shell.execute_reply.started": "2021-07-25T14:55:28.042430Z"
    },
    "papermill": {
     "duration": 54.757984,
     "end_time": "2021-07-25T15:00:54.013755",
     "exception": false,
     "start_time": "2021-07-25T14:59:59.255771",
     "status": "completed"
    },
    "tags": []
   },
   "outputs": [
    {
     "name": "stdout",
     "output_type": "stream",
     "text": [
      "For rank 8 the RMSE is 3.06118072325833\n",
      "For rank 9 the RMSE is 3.064299773482194\n",
      "For rank 10 the RMSE is 3.065322454574617\n",
      "For rank 11 the RMSE is 3.0661689598418453\n"
     ]
    }
   ],
   "source": [
    "for rank in range(8, 12):\n",
    "    als = ALS(rank=rank, maxIter=5, regParam=0.01, userCol=\"userId\", \n",
    "              itemCol=\"movieId\", ratingCol=\"scaled_rating\", coldStartStrategy=\"drop\")\n",
    "    als_model = als.fit(train)\n",
    "    predictions = als_model.transform(test)\n",
    "    evaluator = RegressionEvaluator(metricName=\"rmse\", labelCol=\"rating\",\n",
    "                                    predictionCol=\"prediction\")\n",
    "    rmse = evaluator.evaluate(predictions)\n",
    "    print('For rank {} the RMSE is {}'.format(rank, rmse))"
   ]
  },
  {
   "cell_type": "code",
   "execution_count": 14,
   "id": "d219bae9",
   "metadata": {
    "execution": {
     "iopub.execute_input": "2021-07-25T15:00:54.313803Z",
     "iopub.status.busy": "2021-07-25T15:00:54.313097Z",
     "iopub.status.idle": "2021-07-25T15:00:57.948006Z",
     "shell.execute_reply": "2021-07-25T15:00:57.947326Z",
     "shell.execute_reply.started": "2021-07-25T14:56:20.583046Z"
    },
    "papermill": {
     "duration": 3.786454,
     "end_time": "2021-07-25T15:00:57.948177",
     "exception": false,
     "start_time": "2021-07-25T15:00:54.161723",
     "status": "completed"
    },
    "tags": []
   },
   "outputs": [],
   "source": [
    "best_rank = 9\n",
    "als = ALS(rank=best_rank, maxIter=5, regParam=0.01, userCol=\"userId\", \n",
    "          itemCol=\"movieId\", ratingCol=\"rating\", coldStartStrategy=\"drop\")\n",
    "als_model = als.fit(train)"
   ]
  },
  {
   "cell_type": "code",
   "execution_count": 15,
   "id": "8ecc8b6c",
   "metadata": {
    "execution": {
     "iopub.execute_input": "2021-07-25T15:00:58.237006Z",
     "iopub.status.busy": "2021-07-25T15:00:58.236072Z",
     "iopub.status.idle": "2021-07-25T15:01:25.123237Z",
     "shell.execute_reply": "2021-07-25T15:01:25.122086Z",
     "shell.execute_reply.started": "2021-07-25T14:56:24.096999Z"
    },
    "papermill": {
     "duration": 27.033614,
     "end_time": "2021-07-25T15:01:25.123497",
     "exception": false,
     "start_time": "2021-07-25T15:00:58.089883",
     "status": "completed"
    },
    "tags": []
   },
   "outputs": [
    {
     "name": "stdout",
     "output_type": "stream",
     "text": [
      "Showing the top 10 recommendation for user: 474\n",
      "====================================\n",
      "Movies wiht high ratings from user\n",
      "--------------------------------\n",
      "Philadelphia Story, The (1940) : Comedy|Drama|Romance\n",
      "Local Hero (1983) : Comedy\n",
      "Singin' in the Rain (1952) : Comedy|Musical|Romance\n",
      "Princess Bride, The (1987) : Action|Adventure|Comedy|Fantasy|Romance\n",
      "Godfather: Part II, The (1974) : Crime|Drama\n",
      "--------------------------------\n",
      "The top 10 movie recommendations\n",
      "--------------------------------\n",
      "Freeway (1996) : Comedy|Crime|Drama|Thriller\n",
      "Emperor's New Groove, The (2000) : Adventure|Animation|Children|Comedy|Fantasy\n",
      "Dogville (2003) : Drama|Mystery|Thriller\n",
      "Naked (1993) : Drama\n",
      "Angels in the Outfield (1994) : Children|Comedy\n",
      "Cooler, The (2003) : Comedy|Drama|Romance\n",
      "Twin Peaks: Fire Walk with Me (1992) : Crime|Drama|Mystery|Thriller\n",
      "City of Angels (1998) : Drama|Fantasy|Romance\n",
      "Children of Paradise (Les enfants du paradis) (1945) : Drama|Romance\n",
      "Hocus Pocus (1993) : Children|Comedy|Fantasy|Horror\n"
     ]
    }
   ],
   "source": [
    "user_id = 474\n",
    "num_rec = 10\n",
    "recommendations_ALSmodel(user_id, num_rec, als_model)"
   ]
  },
  {
   "cell_type": "markdown",
   "id": "65794b72",
   "metadata": {
    "papermill": {
     "duration": 0.146543,
     "end_time": "2021-07-25T15:01:25.419093",
     "exception": false,
     "start_time": "2021-07-25T15:01:25.272550",
     "status": "completed"
    },
    "tags": []
   },
   "source": [
    "### 3.3 <a id='deep_learning'></a>Depp Learning with Keras"
   ]
  },
  {
   "cell_type": "code",
   "execution_count": 16,
   "id": "175fae98",
   "metadata": {
    "execution": {
     "iopub.execute_input": "2021-07-25T15:01:25.721666Z",
     "iopub.status.busy": "2021-07-25T15:01:25.720537Z",
     "iopub.status.idle": "2021-07-25T15:01:25.731093Z",
     "shell.execute_reply": "2021-07-25T15:01:25.731613Z",
     "shell.execute_reply.started": "2021-07-25T14:56:52.669128Z"
    },
    "papermill": {
     "duration": 0.164343,
     "end_time": "2021-07-25T15:01:25.731826",
     "exception": false,
     "start_time": "2021-07-25T15:01:25.567483",
     "status": "completed"
    },
    "tags": []
   },
   "outputs": [],
   "source": [
    "# Extract top N list from Deep Learning model\n",
    "def recommendations_DLmodel(user_id, num_rec, model):\n",
    "    watched_movie = np.array(df.filter(func.col('userId') == user_id).select('movieId').collect())\n",
    "    \n",
    "    movies_not_watched = []\n",
    "    for id, title in movies_dict.value.items():\n",
    "        if id not in watched_movie:\n",
    "            movies_not_watched.append(id)\n",
    "            \n",
    "    user = [user_id] * len(movies_not_watched)\n",
    "\n",
    "    pred_user_movie = spark.createDataFrame(\n",
    "        zip(user, movies_not_watched), ['userId', 'movieId']\n",
    "    )\n",
    "    \n",
    "    pred_user_movie = pred_user_movie.join(user_encoder, 'userId').join(movie_encoder, 'movieId')\n",
    "    \n",
    "    pred = np.array(pred_user_movie.select('user_enco','movie_enco').collect())\n",
    "    pred_rating = model.predict(pred).flatten()\n",
    "    \n",
    "    predition = spark.createDataFrame(zip(pred[:,1].tolist(), pred_rating.tolist()), ['movie_enco', 'pre_scaled_rating'])\n",
    "    \n",
    "\n",
    "    result = pred_user_movie.join(predition, 'movie_enco')\\\n",
    "                            .withColumn('pred_rating', func.round(func.col('pre_scaled_rating')*(max_rating - min_rating)+ min_rating, 2))\\\n",
    "                            .sort('pred_rating', ascending=False)\\\n",
    "                            .join(data_movies, 'movieId')\\\n",
    "                            .select('title', 'genres')\\\n",
    "                            .take(num_rec)\n",
    "    \n",
    "    print('Showing the top {} recommendation for user: {}'.format(num_rec, user_id))\n",
    "    print('===='*9)\n",
    "    print('Movies wiht high ratings from user')\n",
    "    print('----'*8)\n",
    "    top_movie_user = df.filter(func.col('userId')==user_id)\\\n",
    "                       .join(data_movies, 'movieId')\\\n",
    "                       .sort('rating', ascending=False)\\\n",
    "                       .select('title', 'genres')\\\n",
    "                       .take(5)\n",
    "    \n",
    "    for row_top_movie_user in top_movie_user:\n",
    "        print(row_top_movie_user[0], \":\", row_top_movie_user[1])\n",
    "        \n",
    "    print('----'*8)\n",
    "    print('The top {} movie recommendations'.format(num_rec))\n",
    "    print('----'*8)\n",
    "    for rec in result:\n",
    "        print(rec[0], \":\", rec[1])"
   ]
  },
  {
   "cell_type": "code",
   "execution_count": 17,
   "id": "36a5a81d",
   "metadata": {
    "execution": {
     "iopub.execute_input": "2021-07-25T15:01:26.030203Z",
     "iopub.status.busy": "2021-07-25T15:01:26.029146Z",
     "iopub.status.idle": "2021-07-25T15:01:32.910081Z",
     "shell.execute_reply": "2021-07-25T15:01:32.910587Z",
     "shell.execute_reply.started": "2021-07-25T14:56:52.694040Z"
    },
    "papermill": {
     "duration": 7.031011,
     "end_time": "2021-07-25T15:01:32.910800",
     "exception": false,
     "start_time": "2021-07-25T15:01:25.879789",
     "status": "completed"
    },
    "tags": []
   },
   "outputs": [
    {
     "data": {
      "text/plain": [
       "((80149, 2), (19855, 2), (80149, 1), (19855, 1))"
      ]
     },
     "execution_count": 17,
     "metadata": {},
     "output_type": "execute_result"
    }
   ],
   "source": [
    "X_train = np.array(train.select('user_enco','movie_enco').collect())\n",
    "X_test = np.array(test.select('user_enco','movie_enco').collect())\n",
    "y_train = np.array(train.select('scaled_rating').collect())\n",
    "y_test = np.array(test.select('scaled_rating').collect())\n",
    "\n",
    "X_train.shape, X_test.shape, y_train.shape, y_test.shape"
   ]
  },
  {
   "cell_type": "code",
   "execution_count": 18,
   "id": "725de53a",
   "metadata": {
    "execution": {
     "iopub.execute_input": "2021-07-25T15:01:33.206061Z",
     "iopub.status.busy": "2021-07-25T15:01:33.205405Z",
     "iopub.status.idle": "2021-07-25T15:01:33.216235Z",
     "shell.execute_reply": "2021-07-25T15:01:33.216751Z",
     "shell.execute_reply.started": "2021-07-25T14:56:58.421244Z"
    },
    "papermill": {
     "duration": 0.161438,
     "end_time": "2021-07-25T15:01:33.216921",
     "exception": false,
     "start_time": "2021-07-25T15:01:33.055483",
     "status": "completed"
    },
    "tags": []
   },
   "outputs": [],
   "source": [
    "# construct deep learning model\n",
    "EMBEDDING_SIZE = 50\n",
    "class RecommenderNet(keras.Model):\n",
    "    \n",
    "    def __init__(self, num_users, num_movies, embedding_size, latent_dim=10, intermediate_dim=32, **kwargs):\n",
    "        super(RecommenderNet, self).__init__(**kwargs)\n",
    "        self.num_users = num_users\n",
    "        self.num_movies = num_movies\n",
    "        self.embedding_size = embedding_size\n",
    "        \n",
    "        self.user_embedding = layers.Embedding(\n",
    "            num_users+1,\n",
    "            embedding_size,\n",
    "            embeddings_initializer=\"he_normal\",\n",
    "            embeddings_regularizer=keras.regularizers.l2(1e-6),\n",
    "        )\n",
    "\n",
    "        self.movie_embedding = layers.Embedding(\n",
    "            num_movies+1,\n",
    "            embedding_size,\n",
    "            embeddings_initializer=\"he_normal\",\n",
    "            embeddings_regularizer=keras.regularizers.l2(1e-6),\n",
    "        )\n",
    "\n",
    "        self.user_flatten = layers.Flatten()\n",
    "        \n",
    "        self.movie_flatten = layers.Flatten()\n",
    "        \n",
    "        self.dense_1 = layers.Dense(\n",
    "            intermediate_dim, activation = 'relu'\n",
    "        )\n",
    "        self.dense_2 = layers.Dense(\n",
    "            latent_dim, activation = 'relu'\n",
    "        )\n",
    "        \n",
    "    def call(self, inputs):\n",
    "        user_embedding = self.user_embedding(inputs[:, 0])\n",
    "        movie_embedding = self.movie_embedding(inputs[:, 1])\n",
    "        user_flatten = self.user_flatten(user_embedding)\n",
    "        movie_flatten = self.movie_flatten(movie_embedding)\n",
    "        user_movie_concatenate = layers.concatenate([user_flatten, movie_flatten])\n",
    "        dense_layer_1 = self.dense_1(user_movie_concatenate)\n",
    "        dense_layer_2 = self.dense_2(dense_layer_1)\n",
    "        out_put = tf.nn.sigmoid(dense_layer_2)\n",
    "        return out_put"
   ]
  },
  {
   "cell_type": "code",
   "execution_count": 19,
   "id": "18e04f91",
   "metadata": {
    "execution": {
     "iopub.execute_input": "2021-07-25T15:01:33.534453Z",
     "iopub.status.busy": "2021-07-25T15:01:33.533452Z",
     "iopub.status.idle": "2021-07-25T15:01:33.625786Z",
     "shell.execute_reply": "2021-07-25T15:01:33.625155Z",
     "shell.execute_reply.started": "2021-07-25T14:56:58.432540Z"
    },
    "papermill": {
     "duration": 0.247904,
     "end_time": "2021-07-25T15:01:33.625943",
     "exception": false,
     "start_time": "2021-07-25T15:01:33.378039",
     "status": "completed"
    },
    "tags": []
   },
   "outputs": [],
   "source": [
    "dl_model = RecommenderNet(num_users, num_movies, EMBEDDING_SIZE)\n",
    "opt = Adam(lr=0.001)\n",
    "dl_model.compile(loss='mean_squared_error', optimizer=opt)"
   ]
  },
  {
   "cell_type": "code",
   "execution_count": 20,
   "id": "12987747",
   "metadata": {
    "execution": {
     "iopub.execute_input": "2021-07-25T15:01:33.926097Z",
     "iopub.status.busy": "2021-07-25T15:01:33.925249Z",
     "iopub.status.idle": "2021-07-25T15:02:22.616561Z",
     "shell.execute_reply": "2021-07-25T15:02:22.615146Z",
     "shell.execute_reply.started": "2021-07-25T14:56:58.487926Z"
    },
    "papermill": {
     "duration": 48.841647,
     "end_time": "2021-07-25T15:02:22.616823",
     "exception": false,
     "start_time": "2021-07-25T15:01:33.775176",
     "status": "completed"
    },
    "tags": []
   },
   "outputs": [
    {
     "name": "stdout",
     "output_type": "stream",
     "text": [
      "Epoch 1/10\n",
      "1253/1253 [==============================] - 6s 4ms/step - loss: 0.0529 - val_loss: 0.0408\n",
      "Epoch 2/10\n",
      "1253/1253 [==============================] - 5s 4ms/step - loss: 0.0377 - val_loss: 0.0407\n",
      "Epoch 3/10\n",
      "1253/1253 [==============================] - 5s 4ms/step - loss: 0.0366 - val_loss: 0.0408\n",
      "Epoch 4/10\n",
      "1253/1253 [==============================] - 5s 4ms/step - loss: 0.0352 - val_loss: 0.0411\n",
      "Epoch 5/10\n",
      "1253/1253 [==============================] - 5s 4ms/step - loss: 0.0348 - val_loss: 0.0411\n",
      "Epoch 6/10\n",
      "1253/1253 [==============================] - 5s 4ms/step - loss: 0.0341 - val_loss: 0.0416\n",
      "Epoch 7/10\n",
      "1253/1253 [==============================] - 5s 4ms/step - loss: 0.0331 - val_loss: 0.0420\n",
      "Epoch 8/10\n",
      "1253/1253 [==============================] - 5s 4ms/step - loss: 0.0323 - val_loss: 0.0427\n",
      "Epoch 9/10\n",
      "1253/1253 [==============================] - 5s 4ms/step - loss: 0.0313 - val_loss: 0.0431\n",
      "Epoch 10/10\n",
      "1253/1253 [==============================] - 5s 4ms/step - loss: 0.0302 - val_loss: 0.0434\n"
     ]
    }
   ],
   "source": [
    "history = dl_model.fit(x=X_train, y=y_train, batch_size=64, epochs=10, \n",
    "                       verbose=1, validation_data=(X_test , y_test))"
   ]
  },
  {
   "cell_type": "code",
   "execution_count": 21,
   "id": "fb218dd2",
   "metadata": {
    "execution": {
     "iopub.execute_input": "2021-07-25T15:02:23.453453Z",
     "iopub.status.busy": "2021-07-25T15:02:23.452061Z",
     "iopub.status.idle": "2021-07-25T15:02:23.602224Z",
     "shell.execute_reply": "2021-07-25T15:02:23.601669Z",
     "shell.execute_reply.started": "2021-07-25T14:57:47.033559Z"
    },
    "papermill": {
     "duration": 0.576318,
     "end_time": "2021-07-25T15:02:23.602382",
     "exception": false,
     "start_time": "2021-07-25T15:02:23.026064",
     "status": "completed"
    },
    "tags": []
   },
   "outputs": [
    {
     "data": {
      "image/png": "[encoded data removed]",
      "text/plain": [
       "<Figure size 432x288 with 1 Axes>"
      ]
     },
     "metadata": {
      "needs_background": "light"
     },
     "output_type": "display_data"
    }
   ],
   "source": [
    "plt.plot(history.history[\"loss\"])\n",
    "plt.plot(history.history[\"val_loss\"])\n",
    "plt.title(\"model loss\")\n",
    "plt.ylabel(\"loss\")\n",
    "plt.xlabel(\"epoch\")\n",
    "plt.legend([\"train\", \"test\"], loc=\"upper left\")\n",
    "plt.show()"
   ]
  },
  {
   "cell_type": "code",
   "execution_count": 22,
   "id": "cf103950",
   "metadata": {
    "execution": {
     "iopub.execute_input": "2021-07-25T15:02:24.416627Z",
     "iopub.status.busy": "2021-07-25T15:02:24.415949Z",
     "iopub.status.idle": "2021-07-25T15:02:31.277111Z",
     "shell.execute_reply": "2021-07-25T15:02:31.276425Z",
     "shell.execute_reply.started": "2021-07-25T14:57:47.204600Z"
    },
    "papermill": {
     "duration": 7.271393,
     "end_time": "2021-07-25T15:02:31.277295",
     "exception": false,
     "start_time": "2021-07-25T15:02:24.005902",
     "status": "completed"
    },
    "tags": []
   },
   "outputs": [
    {
     "name": "stdout",
     "output_type": "stream",
     "text": [
      "Showing the top 10 recommendation for user: 474\n",
      "====================================\n",
      "Movies wiht high ratings from user\n",
      "--------------------------------\n",
      "Philadelphia Story, The (1940) : Comedy|Drama|Romance\n",
      "Local Hero (1983) : Comedy\n",
      "Singin' in the Rain (1952) : Comedy|Musical|Romance\n",
      "Princess Bride, The (1987) : Action|Adventure|Comedy|Fantasy|Romance\n",
      "Godfather: Part II, The (1974) : Crime|Drama\n",
      "--------------------------------\n",
      "The top 10 movie recommendations\n",
      "--------------------------------\n",
      "Patriot, The (2000) : Action|Drama|War\n",
      "Exorcist, The (1973) : Horror|Mystery\n",
      "Charlie and the Chocolate Factory (2005) : Adventure|Children|Comedy|Fantasy|IMAX\n",
      "Double Jeopardy (1999) : Action|Crime|Drama|Thriller\n",
      "Rebel Without a Cause (1955) : Drama\n",
      "Ghost World (2001) : Comedy|Drama\n",
      "Scream 2 (1997) : Comedy|Horror|Mystery|Thriller\n",
      "Hoosiers (a.k.a. Best Shot) (1986) : Drama|Romance\n",
      "Munich (2005) : Action|Crime|Drama|Thriller\n",
      "Man with Two Brains, The (1983) : Comedy\n"
     ]
    }
   ],
   "source": [
    "user_id = 474\n",
    "num_rec = 10\n",
    "recommendations_DLmodel(user_id, num_rec, dl_model)"
   ]
  },
  {
   "cell_type": "markdown",
   "id": "3b519201",
   "metadata": {
    "papermill": {
     "duration": 0.401957,
     "end_time": "2021-07-25T15:02:32.081160",
     "exception": false,
     "start_time": "2021-07-25T15:02:31.679203",
     "status": "completed"
    },
    "tags": []
   },
   "source": [
    "## 4. <a id='summary'></a>Summary"
   ]
  },
  {
   "cell_type": "markdown",
   "id": "a2aca955",
   "metadata": {
    "papermill": {
     "duration": 0.480123,
     "end_time": "2021-07-25T15:02:32.963307",
     "exception": false,
     "start_time": "2021-07-25T15:02:32.483184",
     "status": "completed"
    },
    "tags": []
   },
   "source": [
    "For the userID 474, different algorithms provide different recommendations.\n",
    "\n",
    "|Movies with high ratings from user |\n",
    "|:------------------------------   |\n",
    "|Philadelphia Story, The (1940) : Comedy,Drama,Romance <br> Local Hero (1983) : Comedy <br> Singin' in the Rain (1952) : Comedy,Musical,Romance <br> Princess Bride, The (1987) : Action,Adventure,Comedy,Fantasy,Romance <br> Godfather: Part II, The (1974) : Crime,Drama|\n",
    "\n",
    "|Algorithm  |Recommendations   |Algorithm  |Recommendations   |\n",
    "|  :----:   |:----             |  :----:   |:----             |\n",
    "|ALS        | Baraka (1992) : Documentary <br> Dear Zachary: A Letter to a Son About His Father (2008) : Documentary <br> Benji (1974) : Adventure,Children <br> Education, An (2009) : Drama,Romance <br> It's a Mad, Mad, Mad, Mad World (1963) : Action,Adventure,Comedy,Crime <br> Fountain, The (2006) : Drama,Fantasy,Romance <br> Frozen (2013) : Adventure,Animation,Comedy,Fantasy,Musical,Romance <br> Wings of Desire (Himmel über Berlin, Der) (1987) : Drama,Fantasy,Romance <br> Big Easy, The (1987) : Action,Crime,Mystery,Romance,Thriller <br> Hedwig and the Angry Inch (2000) : Comedy,Drama,Musical |deep learning  |Patriot, The (2000) : Action,Drama,War <br> Exorcist, The (1973) : Horror,Mystery <br> Charlie and the Chocolate Factory (2005) : Adventure,Children,Comedy,Fantasy,IMAX <br> Double Jeopardy (1999) : Action,Crime,Drama,Thriller <br> Rebel Without a Cause (1955) : Drama <br> Ghost World (2001) : Comedy,Drama <br> Scream 2 (1997) : Comedy,Horror,Mystery,Thriller <br> Hoosiers (a.k.a. Best Shot) (1986) : Drama,Romance <br> Munich (2005) : Action,Crime,Drama,Thriller <br> Man with Two Brains, The (1983) : Comedy |\n"
   ]
  },
  {
   "cell_type": "code",
   "execution_count": null,
   "id": "e9a18698",
   "metadata": {
    "papermill": {
     "duration": 0.403831,
     "end_time": "2021-07-25T15:02:33.773251",
     "exception": false,
     "start_time": "2021-07-25T15:02:33.369420",
     "status": "completed"
    },
    "tags": []
   },
   "outputs": [],
   "source": []
  }
 ],
 "metadata": {
  "kernelspec": {
   "display_name": "Python 3",
   "language": "python",
   "name": "python3"
  },
  "language_info": {
   "codemirror_mode": {
    "name": "ipython",
    "version": 3
   },
   "file_extension": ".py",
   "mimetype": "text/x-python",
   "name": "python",
   "nbconvert_exporter": "python",
   "pygments_lexer": "ipython3",
   "version": "3.7.10"
  },
  "papermill": {
   "default_parameters": {},
   "duration": 245.180616,
   "end_time": "2021-07-25T15:02:36.184972",
   "environment_variables": {},
   "exception": null,
   "input_path": "__notebook__.ipynb",
   "output_path": "__notebook__.ipynb",
   "parameters": {},
   "start_time": "2021-07-25T14:58:31.004356",
   "version": "2.3.3"
  }
 },
 "nbformat": 4,
 "nbformat_minor": 5
}
